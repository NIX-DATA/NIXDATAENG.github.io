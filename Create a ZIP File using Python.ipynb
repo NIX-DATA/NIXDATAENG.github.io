{
 "cells": [
  {
   "cell_type": "code",
   "execution_count": 9,
   "id": "f0ffb3e0-f110-4e9d-91ab-c7d25987cdd8",
   "metadata": {},
   "outputs": [
    {
     "name": "stdout",
     "output_type": "stream",
     "text": [
      "['file1.txt', 'file2.txt']\n",
      "ZIP file Created!\n"
     ]
    }
   ],
   "source": [
    "import zipfile\n",
    "files = ['file1.txt','file2.txt']\n",
    "print(files)\n",
    "\n",
    "with zipfile.ZipFile('pycl.zip','w') as zipf:\n",
    "    for file in files:\n",
    "        zipf.write(file)\n",
    "\n",
    "print(\"ZIP file Created!\")"
   ]
  },
  {
   "cell_type": "code",
   "execution_count": null,
   "id": "e76ad298-1b42-437f-835c-38759db762f6",
   "metadata": {},
   "outputs": [],
   "source": []
  }
 ],
 "metadata": {
  "kernelspec": {
   "display_name": "Python 3 (ipykernel)",
   "language": "python",
   "name": "python3"
  },
  "language_info": {
   "codemirror_mode": {
    "name": "ipython",
    "version": 3
   },
   "file_extension": ".py",
   "mimetype": "text/x-python",
   "name": "python",
   "nbconvert_exporter": "python",
   "pygments_lexer": "ipython3",
   "version": "3.12.7"
  }
 },
 "nbformat": 4,
 "nbformat_minor": 5
}
